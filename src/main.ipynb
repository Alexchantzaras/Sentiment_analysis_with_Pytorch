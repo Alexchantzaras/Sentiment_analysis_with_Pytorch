{
 "cells": [
  {
   "cell_type": "code",
   "execution_count": 1,
   "metadata": {},
   "outputs": [
    {
     "name": "stderr",
     "output_type": "stream",
     "text": [
      "/home/alexc/.local/lib/python3.8/site-packages/tqdm/auto.py:22: TqdmWarning: IProgress not found. Please update jupyter and ipywidgets. See https://ipywidgets.readthedocs.io/en/stable/user_install.html\n",
      "  from .autonotebook import tqdm as notebook_tqdm\n"
     ]
    }
   ],
   "source": [
    "from argparse import Namespace\n",
    "from classifier import *\n",
    "\n",
    "from dataset import *\n",
    "from vectorizer import *\n",
    "\n",
    "import torch"
   ]
  },
  {
   "cell_type": "code",
   "execution_count": 2,
   "metadata": {},
   "outputs": [],
   "source": [
    "def use_cuda():\n",
    "    return torch.device(\"cpu\" if torch.cuda.is_available() else \"cpu\")\n",
    "\n",
    "args = Namespace (\n",
    "    in_features=None,\n",
    "    out_units=1, # Use 1 for IMDB and 3 for Tweets\n",
    "    dataset=None,\n",
    "    optimizer=\"Adam\",\n",
    "    criterion=\"bce_logits\",\n",
    "    batch_size=128,\n",
    "    learning_rate=0.001,\n",
    "    num_epochs=1,\n",
    "    device=use_cuda(),\n",
    "    embed_dim=300,\n",
    "    freeze_embedding=False,\n",
    "    filter_sizes=[3, 4, 5],\n",
    "    num_filters=[100, 100, 100],\n",
    "    pretrained_embedding=None, \n",
    "    hidden_size=2, # number of features in hidden state\n",
    "    num_layers=1 # number of stacked lstm layers\n",
    ")"
   ]
  },
  {
   "cell_type": "code",
   "execution_count": null,
   "metadata": {},
   "outputs": [],
   "source": [
    "# args.dataset = TextDataset.load_dataset_and_make_vectorizer(\"../data/Tweets.csv\")\n",
    "# args.in_features = args.dataset.vectorizer.max_padding"
   ]
  },
  {
   "cell_type": "markdown",
   "metadata": {},
   "source": [
    "### BOW\n",
    "\n",
    "32024"
   ]
  },
  {
   "cell_type": "code",
   "execution_count": null,
   "metadata": {},
   "outputs": [],
   "source": [
    "# bow = BOWClassifier(args=args)\n",
    "# bow.setup()\n",
    "# bow.fit()"
   ]
  },
  {
   "cell_type": "code",
   "execution_count": null,
   "metadata": {},
   "outputs": [],
   "source": [
    "# loss, acc, f1 = bow.eval_net(mode='test')\n",
    "# print(loss)\n",
    "# print(acc)\n",
    "# print(f1)"
   ]
  },
  {
   "cell_type": "code",
   "execution_count": null,
   "metadata": {},
   "outputs": [],
   "source": [
    "# args.dataset = TextDataset.load_dataset_and_make_vectorizer(\"../data/tweets_products.csv\")\n",
    "# loss, acc, f1 = bow.eval_net(mode='test')\n",
    "# print(loss)\n",
    "# print(acc)\n",
    "# print(f1)"
   ]
  },
  {
   "cell_type": "code",
   "execution_count": null,
   "metadata": {},
   "outputs": [],
   "source": [
    "# bow.plot_logs(title=\"Loss\", legend=[\"Train-Loss\", \"Validation-Loss\"])"
   ]
  },
  {
   "cell_type": "code",
   "execution_count": null,
   "metadata": {},
   "outputs": [],
   "source": [
    "# bow.plot_logs(title=\"Accuracy\", legend=[\"Train-Accuracy\", \"Validation-Accuracy\"])"
   ]
  },
  {
   "cell_type": "code",
   "execution_count": null,
   "metadata": {},
   "outputs": [],
   "source": [
    "# bow.plot_logs(title=\"F1-Score\", legend=[\"Train-F1\", \"Validation-F1\"])"
   ]
  },
  {
   "cell_type": "code",
   "execution_count": 3,
   "metadata": {},
   "outputs": [
    {
     "name": "stderr",
     "output_type": "stream",
     "text": [
      "[nltk_data] Downloading package stopwords to /home/alexc/nltk_data...\n",
      "[nltk_data]   Package stopwords is already up-to-date!\n",
      "1999995it [00:25, 79993.60it/s]\n"
     ]
    }
   ],
   "source": [
    "args.dataset = TextDataset.load_dataset_and_make_vectorizer(\"../data/IMDB-dataset.csv\", vectorizer_mode=\"padded\")\n",
    "args.in_features = len(args.dataset.vectorizer.text_vocab)\n",
    "args.pretrained_embedding = args.dataset.vectorizer.load_pretrained_embed(\"../data/crawl-300d-2M.vec\")"
   ]
  },
  {
   "cell_type": "markdown",
   "metadata": {},
   "source": [
    "### CNN"
   ]
  },
  {
   "cell_type": "code",
   "execution_count": 4,
   "metadata": {},
   "outputs": [
    {
     "name": "stderr",
     "output_type": "stream",
     "text": [
      "100%|██████████| 1/1 [03:08<00:00, 188.74s/it]\n"
     ]
    }
   ],
   "source": [
    "cnn_classifier = CNNClassifier(args=args)\n",
    "cnn_classifier.setup()\n",
    "cnn_classifier.fit()"
   ]
  },
  {
   "cell_type": "code",
   "execution_count": 5,
   "metadata": {},
   "outputs": [
    {
     "name": "stdout",
     "output_type": "stream",
     "text": [
      "0.28365139472178913\n",
      "88.18108974358975\n",
      "88.12061024902106\n"
     ]
    }
   ],
   "source": [
    "loss, acc, f1 = cnn_classifier.eval_net(mode='test')\n",
    "print(loss)\n",
    "print(acc)\n",
    "print(f1)"
   ]
  },
  {
   "cell_type": "code",
   "execution_count": 6,
   "metadata": {},
   "outputs": [
    {
     "name": "stderr",
     "output_type": "stream",
     "text": [
      "[nltk_data] Downloading package stopwords to /home/alexc/nltk_data...\n",
      "[nltk_data]   Package stopwords is already up-to-date!\n",
      "1999995it [00:33, 60358.06it/s]\n"
     ]
    },
    {
     "name": "stdout",
     "output_type": "stream",
     "text": [
      "0.6479174336671827\n",
      "61.64781250000006\n",
      "60.66035275442304\n"
     ]
    }
   ],
   "source": [
    "args.dataset = TextDataset.load_dataset_and_make_vectorizer(\"../data/tweets_products.csv\", vectorizer_mode=\"padded\")\n",
    "cnn_classifier.embedding = nn.Embedding.from_pretrained (\n",
    "    args.dataset.vectorizer.load_pretrained_embed(\"../data/crawl-300d-2M.vec\"),\n",
    "    freeze=args.freeze_embedding\n",
    ")\n",
    "loss, acc, f1 = cnn_classifier.eval_net(mode='test')\n",
    "print(loss)\n",
    "print(acc)\n",
    "print(f1)"
   ]
  },
  {
   "cell_type": "code",
   "execution_count": 8,
   "metadata": {},
   "outputs": [],
   "source": [
    "torch.save(cnn_classifier.state_dict(), \"./cnn_classifier.pth\")"
   ]
  },
  {
   "cell_type": "markdown",
   "metadata": {},
   "source": [
    "### LSTM"
   ]
  },
  {
   "cell_type": "code",
   "execution_count": 9,
   "metadata": {},
   "outputs": [
    {
     "name": "stderr",
     "output_type": "stream",
     "text": [
      "[nltk_data] Downloading package stopwords to /home/alexc/nltk_data...\n",
      "[nltk_data]   Package stopwords is already up-to-date!\n",
      "1999995it [00:24, 82880.78it/s]\n"
     ]
    }
   ],
   "source": [
    "args.dataset = TextDataset.load_dataset_and_make_vectorizer(\"../data/IMDB-dataset.csv\", vectorizer_mode=\"padded\")\n",
    "args.in_features = len(args.dataset.vectorizer.text_vocab)\n",
    "args.pretrained_embedding = args.dataset.vectorizer.load_pretrained_embed(\"../data/crawl-300d-2M.vec\")"
   ]
  },
  {
   "cell_type": "code",
   "execution_count": 10,
   "metadata": {},
   "outputs": [
    {
     "name": "stderr",
     "output_type": "stream",
     "text": [
      "100%|██████████| 1/1 [01:19<00:00, 79.58s/it]\n"
     ]
    }
   ],
   "source": [
    "lstm_classifier = LSTMClassifier(args)\n",
    "lstm_classifier.setup()\n",
    "lstm_classifier.fit()"
   ]
  },
  {
   "cell_type": "code",
   "execution_count": 11,
   "metadata": {},
   "outputs": [
    {
     "name": "stdout",
     "output_type": "stream",
     "text": [
      "0.41880007661305935\n",
      "82.70232371794869\n",
      "82.5880476369511\n"
     ]
    }
   ],
   "source": [
    "loss, acc, f1 = lstm_classifier.eval_net(mode='test')\n",
    "print(loss)\n",
    "print(acc)\n",
    "print(f1)"
   ]
  },
  {
   "cell_type": "code",
   "execution_count": 12,
   "metadata": {},
   "outputs": [
    {
     "name": "stderr",
     "output_type": "stream",
     "text": [
      "[nltk_data] Downloading package stopwords to /home/alexc/nltk_data...\n",
      "[nltk_data]   Package stopwords is already up-to-date!\n",
      "1999995it [00:30, 65091.50it/s]\n"
     ]
    }
   ],
   "source": [
    "args.dataset = TextDataset.load_dataset_and_make_vectorizer(\"../data/tweets_products.csv\", vectorizer_mode=\"padded\")\n",
    "lstm_classifier.embedding = nn.Embedding.from_pretrained (\n",
    "    args.dataset.vectorizer.load_pretrained_embed(\"../data/crawl-300d-2M.vec\"),\n",
    "    freeze=args.freeze_embedding\n",
    ")\n"
   ]
  },
  {
   "cell_type": "code",
   "execution_count": 13,
   "metadata": {},
   "outputs": [
    {
     "name": "stdout",
     "output_type": "stream",
     "text": [
      "0.9708076299190526\n",
      "50.009062500000034\n",
      "34.69828848453045\n"
     ]
    }
   ],
   "source": [
    "loss, acc, f1 = lstm_classifier.eval_net(mode='test')\n",
    "print(loss)\n",
    "print(acc)\n",
    "print(f1)"
   ]
  },
  {
   "cell_type": "code",
   "execution_count": 14,
   "metadata": {},
   "outputs": [],
   "source": [
    "torch.save(lstm_classifier.state_dict(), \"./lstm_classifier.pth\")"
   ]
  }
 ],
 "metadata": {
  "interpreter": {
   "hash": "916dbcbb3f70747c44a77c7bcd40155683ae19c65e1c03b4aa3499c5328201f1"
  },
  "kernelspec": {
   "display_name": "Python 3.8.10 64-bit",
   "language": "python",
   "name": "python3"
  },
  "language_info": {
   "codemirror_mode": {
    "name": "ipython",
    "version": 3
   },
   "file_extension": ".py",
   "mimetype": "text/x-python",
   "name": "python",
   "nbconvert_exporter": "python",
   "pygments_lexer": "ipython3",
   "version": "3.8.10"
  },
  "orig_nbformat": 4
 },
 "nbformat": 4,
 "nbformat_minor": 2
}
