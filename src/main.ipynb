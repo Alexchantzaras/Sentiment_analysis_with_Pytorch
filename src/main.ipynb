{
 "cells": [
  {
   "cell_type": "code",
   "execution_count": 1,
   "metadata": {},
   "outputs": [
    {
     "name": "stderr",
     "output_type": "stream",
     "text": [
      "/home/nikos/.local/lib/python3.10/site-packages/tqdm/auto.py:22: TqdmWarning: IProgress not found. Please update jupyter and ipywidgets. See https://ipywidgets.readthedocs.io/en/stable/user_install.html\n",
      "  from .autonotebook import tqdm as notebook_tqdm\n"
     ]
    }
   ],
   "source": [
    "from argparse import Namespace\n",
    "from dataset import TextDataset\n",
    "from classifier import BOWClassifier\n",
    "import torch\n"
   ]
  },
  {
   "cell_type": "code",
   "execution_count": 2,
   "metadata": {},
   "outputs": [],
   "source": [
    "def use_cuda():\n",
    "    return torch.device(\"cuda\" if torch.cuda.is_available() else \"cpu\")\n",
    "\n",
    "args = Namespace (\n",
    "    in_features=None,\n",
    "    out_units=3,\n",
    "    units_per_layer=[128, 64],\n",
    "    dataset=None,\n",
    "    optimizer=\"Adam\",\n",
    "    criterion=\"bce_ls\",\n",
    "    save_dir='../trained_models/bow.pth',\n",
    "    batch_size=128,\n",
    "    learning_rate=0.001,\n",
    "    num_epochs=10,\n",
    "    device=use_cuda(),\n",
    "    binary_class=False\n",
    ")"
   ]
  },
  {
   "cell_type": "code",
   "execution_count": 3,
   "metadata": {},
   "outputs": [
    {
     "name": "stderr",
     "output_type": "stream",
     "text": [
      "[nltk_data] Downloading package stopwords to /home/nikos/nltk_data...\n",
      "[nltk_data]   Package stopwords is already up-to-date!\n"
     ]
    }
   ],
   "source": [
    "args.dataset = TextDataset.load_dataset_and_make_vectorizer(\"../data/Tweets.csv\")\n",
    "args.in_features = len(args.dataset.get_vectorizer().text_vocab)\n",
    "args.out_features = len(args.dataset.get_vectorizer().label_vocab)"
   ]
  },
  {
   "cell_type": "code",
   "execution_count": 4,
   "metadata": {},
   "outputs": [],
   "source": [
    "# bow = BOWClassifier(args=args)\n",
    "# bow.setup()\n",
    "# bow.fit()"
   ]
  },
  {
   "cell_type": "code",
   "execution_count": 5,
   "metadata": {},
   "outputs": [],
   "source": [
    "# loss, acc, f1 = bow.eval_net(mode='test')\n",
    "# print(loss)\n",
    "# print(acc)\n",
    "# print(f1)"
   ]
  },
  {
   "cell_type": "code",
   "execution_count": 6,
   "metadata": {},
   "outputs": [],
   "source": [
    "# bow.plot_logs(title=\"Loss\", legend=[\"Train-Loss\", \"Validation-Loss\"])"
   ]
  },
  {
   "cell_type": "code",
   "execution_count": 7,
   "metadata": {},
   "outputs": [],
   "source": [
    "# bow.plot_logs(title=\"Accuracy\", legend=[\"Train-Accuracy\", \"Validation-Accuracy\"])"
   ]
  },
  {
   "cell_type": "code",
   "execution_count": 8,
   "metadata": {},
   "outputs": [],
   "source": [
    "# bow.plot_logs(title=\"F1-Score\", legend=[\"Train-F1\", \"Validation-F1\"])"
   ]
  }
 ],
 "metadata": {
  "interpreter": {
   "hash": "916dbcbb3f70747c44a77c7bcd40155683ae19c65e1c03b4aa3499c5328201f1"
  },
  "kernelspec": {
   "display_name": "Python 3.8.10 64-bit",
   "language": "python",
   "name": "python3"
  },
  "language_info": {
   "codemirror_mode": {
    "name": "ipython",
    "version": 3
   },
   "file_extension": ".py",
   "mimetype": "text/x-python",
   "name": "python",
   "nbconvert_exporter": "python",
   "pygments_lexer": "ipython3",
   "version": "3.10.4"
  },
  "orig_nbformat": 4
 },
 "nbformat": 4,
 "nbformat_minor": 2
}
