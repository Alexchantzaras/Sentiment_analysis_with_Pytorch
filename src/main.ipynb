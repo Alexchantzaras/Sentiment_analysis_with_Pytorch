{
 "cells": [
  {
   "cell_type": "code",
   "execution_count": null,
   "metadata": {},
   "outputs": [],
   "source": [
    "from argparse import Namespace\n",
    "from classifier import *\n",
    "\n",
    "from dataset import *\n",
    "from vectorizer import *\n",
    "\n",
    "import torch"
   ]
  },
  {
   "cell_type": "code",
   "execution_count": null,
   "metadata": {},
   "outputs": [],
   "source": [
    "def use_cuda():\n",
    "    return torch.device(\"cuda\" if torch.cuda.is_available() else \"cpu\")\n",
    "\n",
    "args = Namespace (\n",
    "    in_features=None,\n",
    "    out_units=3, # Use 1 for IMDB and 3 for Tweets\n",
    "    dataset=None,\n",
    "    optimizer=\"Adam\",\n",
    "    criterion=\"cross_entropy\",\n",
    "    batch_size=128,\n",
    "    learning_rate=0.001,\n",
    "    num_epochs=10,\n",
    "    device=use_cuda(),\n",
    "    embed_dim=300,\n",
    "    freeze_embedding=False,\n",
    "    filter_sizes=[3, 4, 5],\n",
    "    num_filters=[100, 100, 100],\n",
    "    pretrained_embedding=None, \n",
    "    hidden_size=2, # number of features in hidden state\n",
    "    num_layers=1 # number of stacked lstm layers\n",
    ")"
   ]
  },
  {
   "cell_type": "code",
   "execution_count": null,
   "metadata": {},
   "outputs": [],
   "source": [
    "args.dataset = TextDataset.load_dataset_and_make_vectorizer(\"../data/Tweets.csv\")\n",
    "args.in_features = len(args.dataset.vectorizer.text_vocab)"
   ]
  },
  {
   "cell_type": "markdown",
   "metadata": {},
   "source": [
    "### BOW"
   ]
  },
  {
   "cell_type": "code",
   "execution_count": null,
   "metadata": {},
   "outputs": [],
   "source": [
    "bow = BOWClassifier(args=args)\n",
    "bow.setup()\n",
    "bow.fit()"
   ]
  },
  {
   "cell_type": "code",
   "execution_count": null,
   "metadata": {},
   "outputs": [],
   "source": [
    "loss, acc, f1 = bow.eval_net(mode='test')\n",
    "print(loss)\n",
    "print(acc)\n",
    "print(f1)"
   ]
  },
  {
   "cell_type": "code",
   "execution_count": null,
   "metadata": {},
   "outputs": [],
   "source": [
    "# bow.plot_logs(title=\"Loss\", legend=[\"Train-Loss\", \"Validation-Loss\"])"
   ]
  },
  {
   "cell_type": "code",
   "execution_count": null,
   "metadata": {},
   "outputs": [],
   "source": [
    "# bow.plot_logs(title=\"Accuracy\", legend=[\"Train-Accuracy\", \"Validation-Accuracy\"])"
   ]
  },
  {
   "cell_type": "code",
   "execution_count": null,
   "metadata": {},
   "outputs": [],
   "source": [
    "# bow.plot_logs(title=\"F1-Score\", legend=[\"Train-F1\", \"Validation-F1\"])"
   ]
  },
  {
   "cell_type": "code",
   "execution_count": null,
   "metadata": {},
   "outputs": [],
   "source": [
    "args.dataset = TextDataset.load_dataset_and_make_vectorizer(\"../data/IMDB-dataset.csv\", vectorizer_mode=\"padded\")\n",
    "args.in_features = len(args.dataset.vectorizer.text_vocab)\n",
    "args.pretrained_embedding = args.dataset.vectorizer.load_pretrained_embed(\"../data/crawl-300d-2M.vec\")"
   ]
  },
  {
   "cell_type": "markdown",
   "metadata": {},
   "source": [
    "### CNN"
   ]
  },
  {
   "cell_type": "code",
   "execution_count": null,
   "metadata": {},
   "outputs": [],
   "source": [
    "cnn_classifier = CNNClassifier(args=args)\n",
    "cnn_classifier.setup()\n",
    "cnn_classifier.fit()"
   ]
  },
  {
   "cell_type": "code",
   "execution_count": null,
   "metadata": {},
   "outputs": [],
   "source": [
    "loss, acc, f1 = cnn_classifier.eval_net(mode='test')\n",
    "print(loss)\n",
    "print(acc)\n",
    "print(f1)"
   ]
  },
  {
   "cell_type": "markdown",
   "metadata": {},
   "source": [
    "### LSTM"
   ]
  },
  {
   "cell_type": "code",
   "execution_count": null,
   "metadata": {},
   "outputs": [],
   "source": [
    "lstm_classifier = LSTMClassifier(args)\n",
    "lstm_classifier.setup()\n",
    "lstm_classifier.fit()"
   ]
  },
  {
   "cell_type": "code",
   "execution_count": null,
   "metadata": {},
   "outputs": [],
   "source": [
    "loss, acc, f1 = lstm_classifier.eval_net(mode='test')\n",
    "print(loss)\n",
    "print(acc)\n",
    "print(f1)"
   ]
  }
 ],
 "metadata": {
  "interpreter": {
   "hash": "916dbcbb3f70747c44a77c7bcd40155683ae19c65e1c03b4aa3499c5328201f1"
  },
  "kernelspec": {
   "display_name": "Python 3.8.10 64-bit",
   "language": "python",
   "name": "python3"
  },
  "language_info": {
   "codemirror_mode": {
    "name": "ipython",
    "version": 3
   },
   "file_extension": ".py",
   "mimetype": "text/x-python",
   "name": "python",
   "nbconvert_exporter": "python",
   "pygments_lexer": "ipython3",
   "version": "3.8.10"
  },
  "orig_nbformat": 4
 },
 "nbformat": 4,
 "nbformat_minor": 2
}
